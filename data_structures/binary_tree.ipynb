{
 "cells": [
  {
   "cell_type": "code",
   "execution_count": 1,
   "metadata": {},
   "outputs": [],
   "source": [
    "class Node(object):\n",
    "    def __init__(self, value):\n",
    "        self.value = value\n",
    "        self.left = None\n",
    "        self.right = None\n"
   ]
  },
  {
   "cell_type": "markdown",
   "metadata": {},
   "source": [
    "All search is DFS (depth first search)"
   ]
  },
  {
   "cell_type": "code",
   "execution_count": 2,
   "metadata": {},
   "outputs": [],
   "source": [
    "class BinaryTree(object):\n",
    "    def __init__(self, root):\n",
    "        self.root = Node(root)\n",
    "\n",
    "    def search_preorder(self, find_val):\n",
    "        return self.preorder_search(self.root, find_val)\n",
    "    \n",
    "    def search_inorder(self, find_val):\n",
    "        return self.inorder_search(self.root, find_val)\n",
    "\n",
    "    def search_postorder(self, find_val):\n",
    "        return self.postorder_search(self.root, find_val)\n",
    "    \n",
    "    def print_tree_preorder(self):\n",
    "        \n",
    "        return self.preorder_print(tree.root, \"\")[:-1]\n",
    "    \n",
    "    def print_tree_inorder(self):\n",
    "        \n",
    "        return self.inorder_print(tree.root, \"\")[:-1]\n",
    "\n",
    "    def print_tree_postorder(self):\n",
    "        \n",
    "        return self.postorder_print(tree.root, \"\")[:-1]\n",
    "    \n",
    "    def preorder_search(self, start, find_val):\n",
    "        \"\"\"Helper method - use this to create a \n",
    "        recursive search solution.\"\"\"\n",
    "        if start: # if start node is not empty\n",
    "            if find_val == start.value:\n",
    "                return True\n",
    "            else:\n",
    "                return \\\n",
    "                self.preorder_search(start.left, find_val) \\\n",
    "                or \\\n",
    "                self.preorder_search(start.right, find_val)\n",
    "        \n",
    "        return False\n",
    "    \n",
    "    def inorder_search(self, start, find_val):\n",
    "        \"\"\"Helper method - use this to create a \n",
    "        recursive search solution.\"\"\"\n",
    "        if start: # if start node is not empty\n",
    "            if self.inorder_search(start.left, find_val):\n",
    "                return True\n",
    "            elif find_val == start.value:\n",
    "                return True\n",
    "            elif self.inorder_search(start.right, find_val):\n",
    "                return True\n",
    "        \n",
    "        return False\n",
    "    \n",
    "    def postorder_search(self, start, find_val):\n",
    "        \"\"\"Helper method - use this to create a \n",
    "        recursive search solution.\"\"\"\n",
    "        if start: # if start node is not empty\n",
    "            if self.postorder_search(start.left, find_val):\n",
    "                return True\n",
    "            elif self.postorder_search(start.right, find_val):\n",
    "                return True\n",
    "            elif find_val == start.value:\n",
    "                return True\n",
    "        \n",
    "        return False\n",
    "\n",
    "\n",
    "    \n",
    "    def preorder_print(self, start, traversal):        \n",
    "        if start:\n",
    "            traversal += (str(start.value) + \"-\")\n",
    "            traversal = self.preorder_print(start.left, traversal)\n",
    "            traversal = self.preorder_print(start.right, traversal)\n",
    "        \n",
    "        return traversal\n",
    "\n",
    "\n",
    "    def inorder_print(self, start, traversal):        \n",
    "        if start:\n",
    "            traversal = self.inorder_print(start.left, traversal)\n",
    "            traversal += (str(start.value) + \"-\")\n",
    "            traversal = self.inorder_print(start.right, traversal)\n",
    "        \n",
    "        return traversal\n",
    "    \n",
    "    def postorder_print(self, start, traversal):        \n",
    "        if start:\n",
    "            traversal = self.postorder_print(start.left, traversal)\n",
    "            traversal = self.postorder_print(start.right, traversal)\n",
    "            traversal += (str(start.value) + \"-\")\n",
    "        \n",
    "        return traversal"
   ]
  },
  {
   "cell_type": "code",
   "execution_count": 3,
   "metadata": {},
   "outputs": [],
   "source": [
    "# Set up tree\n",
    "tree = BinaryTree(1)\n",
    "tree.root.left = Node(2)\n",
    "tree.root.right = Node(3)\n",
    "tree.root.left.left = Node(4)\n",
    "tree.root.left.right = Node(5)"
   ]
  },
  {
   "cell_type": "code",
   "execution_count": 4,
   "metadata": {},
   "outputs": [
    {
     "name": "stdout",
     "output_type": "stream",
     "text": [
      "True\n",
      "False\n"
     ]
    }
   ],
   "source": [
    "# Test search\n",
    "# Should be True\n",
    "print (tree.search_preorder(4))\n",
    "# Should be False\n",
    "print (tree.search_preorder(6))"
   ]
  },
  {
   "cell_type": "code",
   "execution_count": 5,
   "metadata": {},
   "outputs": [
    {
     "name": "stdout",
     "output_type": "stream",
     "text": [
      "True\n",
      "False\n"
     ]
    }
   ],
   "source": [
    "print (tree.search_inorder(4))\n",
    "print (tree.search_inorder(6))"
   ]
  },
  {
   "cell_type": "code",
   "execution_count": 6,
   "metadata": {},
   "outputs": [
    {
     "name": "stdout",
     "output_type": "stream",
     "text": [
      "True\n",
      "False\n"
     ]
    }
   ],
   "source": [
    "print (tree.search_postorder(4))\n",
    "print (tree.search_postorder(6))"
   ]
  },
  {
   "cell_type": "code",
   "execution_count": 7,
   "metadata": {},
   "outputs": [
    {
     "name": "stdout",
     "output_type": "stream",
     "text": [
      "1-2-4-5-3\n"
     ]
    }
   ],
   "source": [
    "# Test print_tree\n",
    "# Should be 1-2-4-5-3\n",
    "print (tree.print_tree_preorder())"
   ]
  },
  {
   "cell_type": "code",
   "execution_count": 8,
   "metadata": {},
   "outputs": [
    {
     "name": "stdout",
     "output_type": "stream",
     "text": [
      "4-2-5-1-3\n"
     ]
    }
   ],
   "source": [
    "print (tree.print_tree_inorder())"
   ]
  },
  {
   "cell_type": "code",
   "execution_count": 9,
   "metadata": {},
   "outputs": [
    {
     "name": "stdout",
     "output_type": "stream",
     "text": [
      "4-5-2-3-1\n"
     ]
    }
   ],
   "source": [
    "print (tree.print_tree_postorder())"
   ]
  }
 ],
 "metadata": {
  "kernelspec": {
   "display_name": "Python 3",
   "language": "python",
   "name": "python3"
  },
  "language_info": {
   "codemirror_mode": {
    "name": "ipython",
    "version": 3
   },
   "file_extension": ".py",
   "mimetype": "text/x-python",
   "name": "python",
   "nbconvert_exporter": "python",
   "pygments_lexer": "ipython3",
   "version": "3.7.3"
  }
 },
 "nbformat": 4,
 "nbformat_minor": 2
}
