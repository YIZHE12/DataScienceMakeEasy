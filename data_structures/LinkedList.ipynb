{
 "cells": [
  {
   "cell_type": "code",
   "execution_count": 1,
   "metadata": {},
   "outputs": [],
   "source": [
    "class Node(object):\n",
    "    \n",
    "    def __init__(self, d, n = None):\n",
    "        # a node has two information, its value (data), and its next node\n",
    "        self.data = d\n",
    "        self.next_node = n\n",
    "        \n",
    "    def get_next(self):\n",
    "        # get next node\n",
    "        return(self.next_node)\n",
    "    \n",
    "    def set_next (self, n):\n",
    "        self.next_node = n\n",
    "    \n",
    "    def get_data(self):\n",
    "        return(self.data)\n",
    "    \n",
    "    def set_data(self, d):\n",
    "        self.data = d"
   ]
  },
  {
   "cell_type": "code",
   "execution_count": 2,
   "metadata": {},
   "outputs": [],
   "source": [
    "class LinkedList(object):\n",
    "    \n",
    "    def __init__(self, r = None):\n",
    "        # r is the root/head\n",
    "        self.root =  r\n",
    "        self.size = 0\n",
    "        \n",
    "    def get_size (self):\n",
    "        return(self.size)\n",
    "\n",
    "    def add (self, d):\n",
    "        new_node = Node(d, self.root) \n",
    "        # add on top of the current node\n",
    "        self.root = new_node\n",
    "        self.size += 1\n",
    "    \n",
    "    def remove (self, d):\n",
    "        this_node = self.root\n",
    "        prev_node = None\n",
    "        # search from the beginning\n",
    "        \n",
    "        while this_node: # when the node is not empty\n",
    "            if this_node.get_data() == d:\n",
    "#                 print('found', d)\n",
    "                if prev_node:\n",
    "                # if there is a previous node, meaning it is not the first node\n",
    "                    prev_node.next_node = this_node.next_node\n",
    "                    # by passing this node\n",
    "                else: # if it is the first node\n",
    "                    self.root = this_node.next_node\n",
    "                    \n",
    "                self.size -= 1\n",
    "                return True # break and return True\n",
    "            else:\n",
    "                prev_node = this_node\n",
    "                this_node = this_node.next_node\n",
    "                \n",
    "        return False # data not found\n",
    "\n",
    "    \n",
    "    def find (self, d):\n",
    "        this_node = self.root\n",
    "        \n",
    "        while this_node:\n",
    "            if this_node.get_data()==d:\n",
    "                return True\n",
    "            else:\n",
    "                this_node = this_node.next_node                   \n",
    "        return None\n",
    "    \n",
    "    def traversal(self):\n",
    "        this_node = self.root\n",
    "        while this_node:\n",
    "            print(this_node.data)\n",
    "            this_node = this_node.next_node\n",
    "\n",
    "\n",
    "        \n"
   ]
  },
  {
   "cell_type": "code",
   "execution_count": 3,
   "metadata": {},
   "outputs": [],
   "source": [
    "myList = LinkedList()\n",
    "myList.add(5)\n",
    "myList.add(8)\n",
    "myList.add(12)"
   ]
  },
  {
   "cell_type": "code",
   "execution_count": 4,
   "metadata": {},
   "outputs": [
    {
     "name": "stdout",
     "output_type": "stream",
     "text": [
      "12\n",
      "8\n",
      "5\n"
     ]
    }
   ],
   "source": [
    "myList.traversal()"
   ]
  },
  {
   "cell_type": "code",
   "execution_count": 5,
   "metadata": {},
   "outputs": [
    {
     "name": "stdout",
     "output_type": "stream",
     "text": [
      "size=3\n"
     ]
    }
   ],
   "source": [
    "print(\"size=\"+str(myList.get_size()))"
   ]
  },
  {
   "cell_type": "code",
   "execution_count": 6,
   "metadata": {
    "scrolled": true
   },
   "outputs": [
    {
     "name": "stdout",
     "output_type": "stream",
     "text": [
      "size=2\n"
     ]
    }
   ],
   "source": [
    "myList.remove(8)\n",
    "print(\"size=\"+str(myList.get_size()))"
   ]
  },
  {
   "cell_type": "code",
   "execution_count": 7,
   "metadata": {},
   "outputs": [
    {
     "name": "stdout",
     "output_type": "stream",
     "text": [
      "True\n",
      "size=1\n"
     ]
    }
   ],
   "source": [
    "print(myList.remove(12))\n",
    "print(\"size=\"+str(myList.get_size()))"
   ]
  },
  {
   "cell_type": "code",
   "execution_count": 8,
   "metadata": {},
   "outputs": [
    {
     "name": "stdout",
     "output_type": "stream",
     "text": [
      "True\n"
     ]
    }
   ],
   "source": [
    "print(myList.find(5))"
   ]
  }
 ],
 "metadata": {
  "kernelspec": {
   "display_name": "Python 3",
   "language": "python",
   "name": "python3"
  },
  "language_info": {
   "codemirror_mode": {
    "name": "ipython",
    "version": 3
   },
   "file_extension": ".py",
   "mimetype": "text/x-python",
   "name": "python",
   "nbconvert_exporter": "python",
   "pygments_lexer": "ipython3",
   "version": "3.7.3"
  }
 },
 "nbformat": 4,
 "nbformat_minor": 2
}
