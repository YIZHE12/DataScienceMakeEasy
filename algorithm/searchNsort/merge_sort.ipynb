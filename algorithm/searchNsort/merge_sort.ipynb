{
 "cells": [
  {
   "cell_type": "code",
   "execution_count": 1,
   "metadata": {},
   "outputs": [],
   "source": [
    "def merge_sort(nums):\n",
    "    if len(nums) <= 1: \n",
    "        return nums\n",
    "    \n",
    "    pivot = int(len(nums) / 2)\n",
    "    left_list = merge_sort(nums[0:pivot])\n",
    "    right_list = merge_sort(nums[pivot:])\n",
    "    \n",
    "    return merge(left_list, right_list)\n",
    "\n",
    "    \n",
    "    \n",
    "def merge(left_list, right_list):\n",
    "    left_cursor = right_cursor = 0\n",
    "    ret = []\n",
    "    \n",
    "    while left_cursor < len(left_list) and right_cursor <len(right_list):\n",
    "        if left_list[left_cursor] < right_list[right_cursor]:\n",
    "            ret.append(left_list[left_cursor])\n",
    "            left_cursor += 1\n",
    "        else:\n",
    "            ret.append(right_list[right_cursor])\n",
    "            right_cursor += 1\n",
    "        \n",
    "    ret.extend(left_list[left_cursor:])\n",
    "    ret.extend(right_list[right_cursor:])\n",
    "        \n",
    "\n",
    "    return ret\n",
    "            \n",
    "    \n"
   ]
  },
  {
   "cell_type": "code",
   "execution_count": 2,
   "metadata": {},
   "outputs": [
    {
     "data": {
      "text/plain": [
       "[0, 2, 4, 6, 7, 9]"
      ]
     },
     "execution_count": 2,
     "metadata": {},
     "output_type": "execute_result"
    }
   ],
   "source": [
    "merge_sort([4,6,2,7,9,0])"
   ]
  }
 ],
 "metadata": {
  "kernelspec": {
   "display_name": "Python 3",
   "language": "python",
   "name": "python3"
  },
  "language_info": {
   "codemirror_mode": {
    "name": "ipython",
    "version": 3
   },
   "file_extension": ".py",
   "mimetype": "text/x-python",
   "name": "python",
   "nbconvert_exporter": "python",
   "pygments_lexer": "ipython3",
   "version": "3.7.3"
  }
 },
 "nbformat": 4,
 "nbformat_minor": 2
}
