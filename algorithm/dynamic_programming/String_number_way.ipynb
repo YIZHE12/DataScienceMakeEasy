{
 "cells": [
  {
   "cell_type": "markdown",
   "metadata": {},
   "source": [
    "## Problem\n",
    "You have the following encoding method:\n",
    "\n",
    "a:1, b:2, c:3, d:4 ... z:26\n",
    "\n",
    "so for number 12, it can be 1 and 2, so it is ab, or it can be 12, which is l\n",
    "\n",
    "Q: given a number, can you find how many possible encoding messeges it has?"
   ]
  },
  {
   "cell_type": "markdown",
   "metadata": {},
   "source": [
    "## Solution\n",
    "\n",
    "This can be solve recusively:\n",
    "\n",
    "to decode 12345, we can add the num_way(2345) and num_way(345)\n",
    "\n",
    "so then there is \n",
    "num_way(2345) can be num_way(345) + num_way(45)\n",
    "\n",
    "num_way(345) can be num_way(45) \n",
    "\n",
    "num_way(45) = 1\n",
    "\n",
    "\n",
    "Therefore, in total it should be 3"
   ]
  },
  {
   "cell_type": "code",
   "execution_count": 1,
   "metadata": {},
   "outputs": [],
   "source": [
    "def num_way(string_num): \n",
    "    if len(string_num)==1: \n",
    "        # even if it is not in the code, we give Nan, \n",
    "        # so there is only one way to decode\n",
    "        return 1\n",
    "    if len(string_num)==2:\n",
    "        if int(string_num)<=26:\n",
    "            return 2\n",
    "        else:\n",
    "            return 1\n",
    "        \n",
    "    if len(string_num)>2:\n",
    "        if int(string_num[0]) == 1: \n",
    "            temp1 = num_way(string_num[1:])\n",
    "            temp2 = num_way(string_num[2:])\n",
    "            return temp1+temp2\n",
    "        \n",
    "        if int(string_num[0]) == 2: \n",
    "            if int(string_num[0])<=6:\n",
    "                temp1 = num_way(string_num[1:])\n",
    "                temp2 = num_way(string_num[2:])\n",
    "                return temp1+temp2\n",
    "            else:\n",
    "                return num_way(string_num[1:])\n",
    "            \n",
    "        if int(string_num[0]) > 2: \n",
    "             return num_way(string_num[1:])\n"
   ]
  },
  {
   "cell_type": "code",
   "execution_count": 2,
   "metadata": {},
   "outputs": [
    {
     "data": {
      "text/plain": [
       "3"
      ]
     },
     "execution_count": 2,
     "metadata": {},
     "output_type": "execute_result"
    }
   ],
   "source": [
    "num_way(str(12345))"
   ]
  },
  {
   "cell_type": "markdown",
   "metadata": {},
   "source": [
    "### More clean code"
   ]
  },
  {
   "cell_type": "code",
   "execution_count": 3,
   "metadata": {},
   "outputs": [],
   "source": [
    "def helper(data, k): # k is the len of data\n",
    "    if k == 0:\n",
    "        return 1\n",
    "    \n",
    "    s = len(data) - k\n",
    "    if data[s] == '0':\n",
    "        # because 0 does't correspond to any letter there is no way to decode\n",
    "        return 0\n",
    "    \n",
    "    result = helper(data, k-1) \n",
    "    # first, calculate the first senario\n",
    "    \n",
    "    if k>=2 and int(data[s:s+2]) <= 26:\n",
    "    # if the firt two number <= 26, then there is the second senario\n",
    "        result += helper(data, k-2)\n",
    "        \n",
    "    return result\n",
    "\n",
    "def num_way2(data):\n",
    "    return (helper(data, len(data)))\n",
    "    \n",
    "    "
   ]
  },
  {
   "cell_type": "code",
   "execution_count": 4,
   "metadata": {},
   "outputs": [
    {
     "data": {
      "text/plain": [
       "3"
      ]
     },
     "execution_count": 4,
     "metadata": {},
     "output_type": "execute_result"
    }
   ],
   "source": [
    "num_way2(str(12345))"
   ]
  },
  {
   "cell_type": "markdown",
   "metadata": {},
   "source": [
    "The above call is calling recursively and will results in O(2^n) as for n = 5 in our example 12345, you need to calculate \n",
    "\n",
    "                    h(5)\n",
    "                  /     \\\n",
    "               h(4)      h(3)\n",
    "             /    \\      /    \\\n",
    "          h(3)    h(2)  h(2) h(1)\n",
    "         / \\      / \\    / \\\n",
    "      h(2) h(1) h(1)h(1) h(1)\n",
    "             \n",
    "\n",
    "With memorization we can reduce it to O(N)"
   ]
  },
  {
   "cell_type": "code",
   "execution_count": 5,
   "metadata": {},
   "outputs": [],
   "source": [
    "import math"
   ]
  },
  {
   "cell_type": "code",
   "execution_count": 6,
   "metadata": {},
   "outputs": [],
   "source": [
    "def helper(data, k, memo): # k is the len of data\n",
    "    if k == 0:\n",
    "        return 1\n",
    "    \n",
    "    s = len(data) - k\n",
    "    if data[s] == '0':\n",
    "        # because 0 does't correspond to any letter there is no way to decode\n",
    "        return 0\n",
    "    \n",
    "    if not math.isnan(memo[k]):\n",
    "        return memo[k]\n",
    "    \n",
    "    result = helper(data, k-1, memo) \n",
    "    # first, calculate the first senario\n",
    "    \n",
    "    if k>=2 and int(data[s:s+2]) <= 26:\n",
    "    # if the firt two number <= 26, then there is the second senario\n",
    "        result += helper(data, k-2, memo)\n",
    "    \n",
    "    memo[k] = result\n",
    "    \n",
    "    return result\n",
    "\n",
    "def num_way2(data):\n",
    "#     memo = np.full(len(data)+1, np.nan)\n",
    "    memo = [float('nan')]*(len(data)+1)\n",
    "    return (helper(data, len(data), memo))\n",
    "    \n",
    "    "
   ]
  },
  {
   "cell_type": "code",
   "execution_count": 7,
   "metadata": {},
   "outputs": [
    {
     "data": {
      "text/plain": [
       "3"
      ]
     },
     "execution_count": 7,
     "metadata": {},
     "output_type": "execute_result"
    }
   ],
   "source": [
    "num_way2(str(12345))"
   ]
  },
  {
   "cell_type": "markdown",
   "metadata": {},
   "source": [
    "More on this: https://www.youtube.com/watch?v=qli-JCrSwuk&t=31s"
   ]
  }
 ],
 "metadata": {
  "kernelspec": {
   "display_name": "Python 3",
   "language": "python",
   "name": "python3"
  },
  "language_info": {
   "codemirror_mode": {
    "name": "ipython",
    "version": 3
   },
   "file_extension": ".py",
   "mimetype": "text/x-python",
   "name": "python",
   "nbconvert_exporter": "python",
   "pygments_lexer": "ipython3",
   "version": "3.7.3"
  }
 },
 "nbformat": 4,
 "nbformat_minor": 2
}
